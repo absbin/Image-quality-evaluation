{
  "nbformat": 4,
  "nbformat_minor": 0,
  "metadata": {
    "colab": {
      "name": "image_quality_bspc_reviewer_share.ipynb",
      "provenance": [],
      "include_colab_link": true
    },
    "kernelspec": {
      "name": "python3",
      "display_name": "Python 3"
    }
  },
  "cells": [
    {
      "cell_type": "markdown",
      "metadata": {
        "id": "view-in-github",
        "colab_type": "text"
      },
      "source": [
        "<a href=\"https://colab.research.google.com/github/absbin/Image-quality-evaluation/blob/master/image_quality_bspc_reviewer_share.ipynb\" target=\"_parent\"><img src=\"https://colab.research.google.com/assets/colab-badge.svg\" alt=\"Open In Colab\"/></a>"
      ]
    },
    {
      "cell_type": "code",
      "metadata": {
        "colab_type": "code",
        "outputId": "466c2aa3-595a-49c7-ad5f-e1bc7f85a714",
        "id": "BH0v9bFE9XWk",
        "colab": {
          "base_uri": "https://localhost:8080/",
          "height": 183
        }
      },
      "source": [
        "%reload_ext autoreload\n",
        "%autoreload 2\n",
        "%matplotlib inline\n",
        "import json\n",
        "import math\n",
        "from tqdm import tqdm\n",
        "import os\n",
        "import sys\n",
        "import cv2\n",
        "import glob\n",
        "import time\n",
        "import json\n",
        "import numpy as np\n",
        "import matplotlib.pyplot as plt\n",
        "from PIL import Image\n",
        "import torch\n",
        "import torch.nn as nn\n",
        "import torch.nn.functional as F\n",
        "import torch.optim as optim\n",
        "from torch.utils.data import Dataset, DataLoader\n",
        "import torchvision\n",
        "import torchvision.models as models\n",
        "import torchvision.datasets as datasets\n",
        "import torchvision.transforms as transforms\n",
        "from sklearn import svm\n",
        "from sklearn import datasets\n",
        "from sklearn import metrics\n",
        "from sklearn.metrics import pairwise_distances\n",
        "from sklearn.metrics import confusion_matrix\n",
        "from sklearn.cluster import KMeans\n",
        "from sklearn.model_selection import train_test_split\n",
        "from sklearn.model_selection import StratifiedKFold\n",
        "from sklearn import svm\n",
        "from sklearn.model_selection import GridSearchCV\n",
        "import zipfile\n",
        "import math\n",
        "from tqdm import tqdm\n",
        "from PIL import Image\n",
        "from sklearn.manifold import TSNE\n",
        "from sklearn.decomposition import PCA\n",
        "import pandas as pd\n",
        "from keras.preprocessing import image\n",
        "from keras.applications.resnet50 import ResNet50\n",
        "from keras.applications.resnet50 import preprocess_input\n",
        "from keras.layers import Input, Flatten, Dense\n",
        "from keras.models import Model\n",
        "from keras.preprocessing import image\n",
        "from keras.applications.resnet50 import ResNet50\n",
        "from keras.applications.resnet50 import preprocess_input\n",
        "from keras.models import model_from_json, load_model\n",
        "from google.colab import drive\n",
        "import pickle\n",
        "from google.colab import files\n",
        "import feature2\n",
        "drive.mount('/content/drive')\n",
        "#!pip install matplotlib\n",
        "base_path='/content/drive/My Drive/models_bspc' \n",
        "%cd '/content/drive/My Drive/models_bspc' \n",
        "!pwd\n",
        "#model_modified=load_model('model.h5')\n",
        "\n",
        "x_data_demo,y_data,img_address=feature2.feature_ext(base_path )\n",
        "#%cd base_path \n",
        "pkl_svm_filename = 'pickle_svm_model.pkl'\n",
        "with open(pkl_svm_filename, 'rb') as file:\n",
        "    pickle_model = pickle.load(file)\n",
        "y_pred_demo=pickle_model.predict(x_data_demo)\n",
        "if y_pred_demo==1:\n",
        "  print('\\n\\n\\n ***WCE frame is informative***')\n",
        "else:\n",
        "  print('\\n\\n\\n ***WCE frame is non-informative***')"
      ],
      "execution_count": 10,
      "outputs": [
        {
          "output_type": "stream",
          "text": [
            "Drive already mounted at /content/drive; to attempt to forcibly remount, call drive.mount(\"/content/drive\", force_remount=True).\n",
            "/content/drive/My Drive/models_bspc\n",
            "/content/drive/My Drive/models_bspc\n",
            "(0, '/content/drive/My Drive/models_bspc/frame_0288.jpg')\n",
            "\n",
            "\n",
            "\n",
            " ***WCE frame is informative***\n"
          ],
          "name": "stdout"
        }
      ]
    },
    {
      "cell_type": "code",
      "metadata": {
        "id": "ruAiuXs14PHi",
        "colab_type": "code",
        "colab": {}
      },
      "source": [
        ""
      ],
      "execution_count": 0,
      "outputs": []
    }
  ]
}